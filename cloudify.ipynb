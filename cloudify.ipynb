{
 "cells": [
  {
   "cell_type": "markdown",
   "metadata": {},
   "source": [
    "### Cloudify\n",
    "![](cloudify_logo.PNG)"
   ]
  },
  {
   "cell_type": "code",
   "execution_count": 1,
   "metadata": {
    "scrolled": true
   },
   "outputs": [
    {
     "name": "stderr",
     "output_type": "stream",
     "text": [
      "/usr/local/lib/python3.5/dist-packages/sklearn/cross_validation.py:41: DeprecationWarning: This module was deprecated in version 0.18 in favor of the model_selection module into which all the refactored classes and functions are moved. Also note that the interface of the new CV iterators are different from that of this module. This module will be removed in 0.20.\n",
      "  \"This module will be removed in 0.20.\", DeprecationWarning)\n"
     ]
    }
   ],
   "source": [
    "\"\"\"\n",
    "Created on Tue June  5 12:34 2018\n",
    "@author: Sibonelo Ngobese\n",
    "\"\"\"\n",
    "# Import libraries\n",
    "import os,cv2\n",
    "import warnings\n",
    "import numpy as np\n",
    "os.environ['TF_CPP_MIN_LOG_LEVEL'] = '3' #Hide messy TensorFlow warnings\n",
    "warnings.filterwarnings(\"ignore\") #Hide messy Numpy warnings\n",
    "\n",
    "import matplotlib.pyplot as plt\n",
    "from matplotlib.image import imread\n",
    "from sklearn.utils import shuffle\n",
    "from sklearn.cross_validation import train_test_split"
   ]
  },
  {
   "cell_type": "code",
   "execution_count": 2,
   "metadata": {},
   "outputs": [],
   "source": [
    "%matplotlib inline"
   ]
  },
  {
   "cell_type": "code",
   "execution_count": 3,
   "metadata": {},
   "outputs": [
    {
     "name": "stderr",
     "output_type": "stream",
     "text": [
      "Using TensorFlow backend.\n"
     ]
    }
   ],
   "source": [
    "from keras import backend as K\n",
    "K.set_image_dim_ordering('th')\n",
    "\n",
    "from keras.utils import np_utils\n",
    "from keras.models import Sequential\n",
    "from keras.layers.core import Dense, Dropout, Activation, Flatten\n",
    "from keras.layers.convolutional import Convolution2D, MaxPooling2D\n",
    "from keras.optimizers import SGD,RMSprop,adam"
   ]
  },
  {
   "cell_type": "code",
   "execution_count": 4,
   "metadata": {},
   "outputs": [],
   "source": [
    "PATH = os.getcwd()\n",
    "# Define data path\n",
    "data_path = PATH + '/data'\n",
    "data_dir_list = os.listdir(data_path)"
   ]
  },
  {
   "cell_type": "code",
   "execution_count": 5,
   "metadata": {},
   "outputs": [],
   "source": [
    "img_rows=128\n",
    "img_cols=128\n",
    "num_channel=1\n",
    "num_epoch=10"
   ]
  },
  {
   "cell_type": "code",
   "execution_count": 8,
   "metadata": {
    "scrolled": true
   },
   "outputs": [
    {
     "name": "stdout",
     "output_type": "stream",
     "text": [
      "Loaded the images of dataset-stratus\n",
      "\n",
      "Loaded the images of dataset-cirrus\n",
      "\n",
      "Loaded the images of dataset-cumulus\n",
      "\n",
      "Loaded the images of dataset-nimbus\n",
      "\n"
     ]
    }
   ],
   "source": [
    "img_data_list=[]\n",
    "dirnames = []\n",
    "number_of_images_per_dir = []\n",
    "for dataset in data_dir_list:\n",
    "    img_list=os.listdir(data_path+'/'+ dataset)\n",
    "    print ('Loaded the images of dataset-'+'{}\\n'.format(dataset))\n",
    "    counter = 0\n",
    "    counter_list = []\n",
    "    for img in img_list:\n",
    "        if img != 'test':\n",
    "            input_img= cv2.imread(data_path + '/'+ dataset + '/'+ img)           \n",
    "            input_img = cv2.cvtColor(input_img, cv2.COLOR_BGR2GRAY)\n",
    "            input_img_resize=cv2.resize(input_img,(128,128))#,interpolation=cv2.INTER_CUBIC)\n",
    "            input_img_resize = input_img_resize/255\n",
    "            img_data_list.append(input_img_resize)\n",
    "            counter+=1\n",
    "        counter_list.append(counter)\n",
    "    number_of_images_per_dir.append(len(counter_list))\n",
    "    dirnames.append(dataset)"
   ]
  },
  {
   "cell_type": "code",
   "execution_count": 43,
   "metadata": {},
   "outputs": [],
   "source": [
    "# Define the number of classes\n",
    "num_classes = len(dirnames)"
   ]
  },
  {
   "cell_type": "code",
   "execution_count": 9,
   "metadata": {},
   "outputs": [
    {
     "name": "stdout",
     "output_type": "stream",
     "text": [
      "[73, 217, 190, 145]\n"
     ]
    }
   ],
   "source": [
    "print(number_of_images_per_dir)"
   ]
  },
  {
   "cell_type": "code",
   "execution_count": 11,
   "metadata": {},
   "outputs": [
    {
     "name": "stdout",
     "output_type": "stream",
     "text": [
      "['stratus', 'cirrus', 'cumulus', 'nimbus']\n"
     ]
    }
   ],
   "source": [
    "print(dirnames)"
   ]
  },
  {
   "cell_type": "code",
   "execution_count": 12,
   "metadata": {},
   "outputs": [
    {
     "name": "stdout",
     "output_type": "stream",
     "text": [
      "(621, 128, 128)\n"
     ]
    }
   ],
   "source": [
    "img_data = np.array(img_data_list)\n",
    "print (img_data.shape)"
   ]
  },
  {
   "cell_type": "code",
   "execution_count": 13,
   "metadata": {},
   "outputs": [
    {
     "name": "stdout",
     "output_type": "stream",
     "text": [
      "(621, 1, 128, 128)\n"
     ]
    }
   ],
   "source": [
    "if num_channel==1:\n",
    "\tif K.image_dim_ordering()=='th':\n",
    "\t\timg_data= np.expand_dims(img_data, axis=1) \n",
    "\t\tprint (img_data.shape)\n",
    "\telse:\n",
    "\t\timg_data= np.expand_dims(img_data, axis=4) \n",
    "\t\tprint (img_data.shape)\n",
    "\t\t\n",
    "else:\n",
    "\tif K.image_dim_ordering()=='th':\n",
    "\t\timg_data=np.rollaxis(img_data,3,1)\n",
    "\t\tprint (img_data.shape)"
   ]
  },
  {
   "cell_type": "code",
   "execution_count": 14,
   "metadata": {},
   "outputs": [],
   "source": [
    "#%%\n",
    "USE_SKLEARN_PREPROCESSING=False\n",
    "\n",
    "if USE_SKLEARN_PREPROCESSING:\n",
    "\t# using sklearn for preprocessing\n",
    "\tfrom sklearn import preprocessing\n",
    "\t\n",
    "\tdef image_to_feature_vector(image, size=(128, 128)):\n",
    "\t\t# resize the image to a fixed size, then flatten the image into\n",
    "\t\t# a list of raw pixel intensities\n",
    "\t\treturn cv2.resize(image, size).flatten()\n",
    "\t\n",
    "\timg_data_list=[]\n",
    "\tfor dataset in data_dir_list:\n",
    "\t\timg_list=os.listdir(data_path+'/'+ dataset)\n",
    "\t\tprint ('Loaded the images of dataset-'+'{}\\n'.format(dataset))\n",
    "\t\tfor img in img_list:\n",
    "\t\t\tif img != 'test':\n",
    "\t\t\t\tinput_img=cv2.imread(data_path + '/'+ dataset + '/'+ img )\n",
    "\t\t\t\tinput_img=cv2.cvtColor(input_img, cv2.COLOR_BGR2GRAY)\n",
    "\t\t\t\tinput_img_flatten=image_to_feature_vector(input_img,(128,128))\n",
    "\t\t\t\timg_data_list.append(input_img_flatten)\n",
    "\t\t\t\t\n",
    "\timg_data = np.array(img_data_list)\n",
    "\timg_data = img_data.astype('float32')\n",
    "\tprint (img_data.shape)\n",
    "\timg_data_scaled = preprocessing.scale(img_data)\n",
    "\tprint (img_data_scaled.shape)\n",
    "\t\n",
    "\tprint (np.mean(img_data_scaled))\n",
    "\tprint (np.std(img_data_scaled))\n",
    "\t\n",
    "\tprint (img_data_scaled.mean(axis=0))\n",
    "\tprint (img_data_scaled.std(axis=0))\n",
    "\t\n",
    "\tif K.image_dim_ordering()=='th':\n",
    "\t\timg_data_scaled=img_data_scaled.reshape(img_data.shape[0],num_channel,img_rows,img_cols)\n",
    "\t\tprint (img_data_scaled.shape)\n",
    "\t\t\n",
    "\telse:\n",
    "\t\timg_data_scaled=img_data_scaled.reshape(img_data.shape[0],img_rows,img_cols,num_channel)\n",
    "\t\tprint (img_data_scaled.shape)\n",
    "\t\n",
    "\t\n",
    "\tif K.image_dim_ordering()=='th':\n",
    "\t\timg_data_scaled=img_data_scaled.reshape(img_data.shape[0],num_channel,img_rows,img_cols)\n",
    "\t\tprint (img_data_scaled.shape)\n",
    "\t\t\n",
    "\telse:\n",
    "\t\timg_data_scaled=img_data_scaled.reshape(img_data.shape[0],img_rows,img_cols,num_channel)\n",
    "\t\tprint (img_data_scaled.shape)"
   ]
  },
  {
   "cell_type": "code",
   "execution_count": 15,
   "metadata": {},
   "outputs": [],
   "source": [
    "if USE_SKLEARN_PREPROCESSING:\n",
    "\timg_data=img_data_scaled"
   ]
  },
  {
   "cell_type": "code",
   "execution_count": 16,
   "metadata": {},
   "outputs": [
    {
     "name": "stdout",
     "output_type": "stream",
     "text": [
      "n_images:  621\n"
     ]
    }
   ],
   "source": [
    "#%%\n",
    "# Assigning Labels\n",
    "# Define the number of classes\n",
    "num_classes = 4\n",
    "\n",
    "num_of_samples = img_data.shape[0]\n",
    "\n",
    "\n",
    "print(\"n_images: \", num_of_samples)"
   ]
  },
  {
   "cell_type": "code",
   "execution_count": 18,
   "metadata": {},
   "outputs": [
    {
     "name": "stdout",
     "output_type": "stream",
     "text": [
      "288\n",
      "477\n"
     ]
    }
   ],
   "source": [
    "# sanity check\n",
    "print(number_of_images_per_dir[0]+number_of_images_per_dir[1]-2)\n",
    "print(number_of_images_per_dir[0]+number_of_images_per_dir[1]+number_of_images_per_dir[2]-3)"
   ]
  },
  {
   "cell_type": "code",
   "execution_count": 19,
   "metadata": {},
   "outputs": [],
   "source": [
    "labels = np.ones((num_of_samples,),dtype='int64')\n",
    "\n",
    "labels[0:number_of_images_per_dir[0]-1]=0\n",
    "labels[number_of_images_per_dir[0]-1:number_of_images_per_dir[0]+number_of_images_per_dir[1]-2]=1\n",
    "labels[number_of_images_per_dir[0]+number_of_images_per_dir[1]-2:number_of_images_per_dir[0]+number_of_images_per_dir[1]+number_of_images_per_dir[2]-3]=2\n",
    "labels[number_of_images_per_dir[0]+number_of_images_per_dir[1]+number_of_images_per_dir[2]-3:]=3\n",
    "\n",
    "# The above is similar to: IFF the num_of_samples == 621 but if the images in each dir has increased it will be different.\n",
    "#labels[0:72]=0\n",
    "#labels[72:288]=1\n",
    "#labels[288:477]=2\n",
    "#labels[477:]=3"
   ]
  },
  {
   "cell_type": "code",
   "execution_count": 20,
   "metadata": {},
   "outputs": [],
   "source": [
    "#labels"
   ]
  },
  {
   "cell_type": "code",
   "execution_count": 21,
   "metadata": {},
   "outputs": [
    {
     "name": "stdout",
     "output_type": "stream",
     "text": [
      "Shape of images:  (621, 1, 128, 128)\n"
     ]
    }
   ],
   "source": [
    "print(\"Shape of images: \",img_data.shape)"
   ]
  },
  {
   "cell_type": "code",
   "execution_count": 22,
   "metadata": {},
   "outputs": [
    {
     "name": "stdout",
     "output_type": "stream",
     "text": [
      "['stratus', 'cirrus', 'cumulus', 'nimbus']\n"
     ]
    }
   ],
   "source": [
    "names = dirnames\n",
    "print(names)\n",
    "#e.g names = ['stratus', 'cirrus','cumulus','nimbus']"
   ]
  },
  {
   "cell_type": "code",
   "execution_count": 23,
   "metadata": {},
   "outputs": [],
   "source": [
    "# convert class labels to on-hot encoding\n",
    "Y = np_utils.to_categorical(labels, num_classes)"
   ]
  },
  {
   "cell_type": "code",
   "execution_count": 24,
   "metadata": {},
   "outputs": [],
   "source": [
    "#Shuffle the dataset\n",
    "x,y = shuffle(img_data,Y, random_state=2)"
   ]
  },
  {
   "cell_type": "code",
   "execution_count": 25,
   "metadata": {},
   "outputs": [],
   "source": [
    "# Split the dataset\n",
    "X_train, X_test, y_train, y_test = train_test_split(x, y, test_size=0.2, random_state=2)"
   ]
  },
  {
   "cell_type": "code",
   "execution_count": 26,
   "metadata": {},
   "outputs": [
    {
     "name": "stdout",
     "output_type": "stream",
     "text": [
      "(496, 1, 128, 128)\n"
     ]
    }
   ],
   "source": [
    "print(X_train.shape)"
   ]
  },
  {
   "cell_type": "code",
   "execution_count": 27,
   "metadata": {},
   "outputs": [],
   "source": [
    "#%%\n",
    "# Defining the model\n",
    "input_shape=img_data[0].shape"
   ]
  },
  {
   "cell_type": "code",
   "execution_count": 28,
   "metadata": {},
   "outputs": [
    {
     "name": "stdout",
     "output_type": "stream",
     "text": [
      "(1, 128, 128)\n"
     ]
    }
   ],
   "source": [
    "print(input_shape)"
   ]
  },
  {
   "cell_type": "code",
   "execution_count": 29,
   "metadata": {
    "scrolled": false
   },
   "outputs": [],
   "source": [
    "model = Sequential()\n",
    "\n",
    "model.add(Convolution2D(32, 3,3,border_mode='same',input_shape=input_shape))\n",
    "model.add(Activation('relu'))\n",
    "model.add(Convolution2D(32, 3, 3))\n",
    "model.add(Activation('relu'))\n",
    "model.add(MaxPooling2D(pool_size=(2, 2)))\n",
    "model.add(Dropout(0.5))\n",
    "\n",
    "model.add(Convolution2D(64, 3, 3))\n",
    "model.add(Activation('relu'))\n",
    "#model.add(Convolution2D(64, 3, 3))\n",
    "#model.add(Activation('relu'))\n",
    "model.add(MaxPooling2D(pool_size=(2, 2)))\n",
    "model.add(Dropout(0.5))\n",
    "\n",
    "model.add(Flatten())\n",
    "model.add(Dense(64))\n",
    "model.add(Activation('relu'))\n",
    "model.add(Dropout(0.5))\n",
    "model.add(Dense(num_classes))\n",
    "model.add(Activation('softmax'))"
   ]
  },
  {
   "cell_type": "code",
   "execution_count": 30,
   "metadata": {},
   "outputs": [],
   "source": [
    "#sgd = SGD(lr=0.01, decay=1e-6, momentum=0.9, nesterov=True)\n",
    "#model.compile(loss='categorical_crossentropy', optimizer=sgd,metrics=[\"accuracy\"])\n",
    "model.compile(loss='categorical_crossentropy', optimizer='rmsprop',metrics=[\"accuracy\"])"
   ]
  },
  {
   "cell_type": "code",
   "execution_count": 31,
   "metadata": {},
   "outputs": [
    {
     "name": "stdout",
     "output_type": "stream",
     "text": [
      "_________________________________________________________________\n",
      "Layer (type)                 Output Shape              Param #   \n",
      "=================================================================\n",
      "conv2d_1 (Conv2D)            (None, 32, 128, 128)      320       \n",
      "_________________________________________________________________\n",
      "activation_1 (Activation)    (None, 32, 128, 128)      0         \n",
      "_________________________________________________________________\n",
      "conv2d_2 (Conv2D)            (None, 32, 126, 126)      9248      \n",
      "_________________________________________________________________\n",
      "activation_2 (Activation)    (None, 32, 126, 126)      0         \n",
      "_________________________________________________________________\n",
      "max_pooling2d_1 (MaxPooling2 (None, 32, 63, 63)        0         \n",
      "_________________________________________________________________\n",
      "dropout_1 (Dropout)          (None, 32, 63, 63)        0         \n",
      "_________________________________________________________________\n",
      "conv2d_3 (Conv2D)            (None, 64, 61, 61)        18496     \n",
      "_________________________________________________________________\n",
      "activation_3 (Activation)    (None, 64, 61, 61)        0         \n",
      "_________________________________________________________________\n",
      "max_pooling2d_2 (MaxPooling2 (None, 64, 30, 30)        0         \n",
      "_________________________________________________________________\n",
      "dropout_2 (Dropout)          (None, 64, 30, 30)        0         \n",
      "_________________________________________________________________\n",
      "flatten_1 (Flatten)          (None, 57600)             0         \n",
      "_________________________________________________________________\n",
      "dense_1 (Dense)              (None, 64)                3686464   \n",
      "_________________________________________________________________\n",
      "activation_4 (Activation)    (None, 64)                0         \n",
      "_________________________________________________________________\n",
      "dropout_3 (Dropout)          (None, 64)                0         \n",
      "_________________________________________________________________\n",
      "dense_2 (Dense)              (None, 4)                 260       \n",
      "_________________________________________________________________\n",
      "activation_5 (Activation)    (None, 4)                 0         \n",
      "=================================================================\n",
      "Total params: 3,714,788\n",
      "Trainable params: 3,714,788\n",
      "Non-trainable params: 0\n",
      "_________________________________________________________________\n"
     ]
    },
    {
     "data": {
      "text/plain": [
       "True"
      ]
     },
     "execution_count": 31,
     "metadata": {},
     "output_type": "execute_result"
    }
   ],
   "source": [
    "# Viewing model_configuration\n",
    "model.summary()\n",
    "model.get_config()\n",
    "model.layers[0].get_config()\n",
    "model.layers[0].input_shape\t\t\t\n",
    "model.layers[0].output_shape\t\t\t\n",
    "model.layers[0].get_weights()\n",
    "np.shape(model.layers[0].get_weights()[0])\n",
    "model.layers[0].trainable"
   ]
  },
  {
   "cell_type": "code",
   "execution_count": 32,
   "metadata": {
    "scrolled": true
   },
   "outputs": [
    {
     "name": "stdout",
     "output_type": "stream",
     "text": [
      "Train on 496 samples, validate on 125 samples\n",
      "Epoch 1/10\n",
      "496/496 [==============================] - 198s 399ms/step - loss: 1.5021 - acc: 0.3407 - val_loss: 1.3466 - val_acc: 0.2960\n",
      "\n",
      "Epoch 00001: val_loss improved from inf to 1.34660, saving model to Best-weights-my_model-001-1.5021-0.3407.hdf5\n",
      "Epoch 2/10\n",
      "496/496 [==============================] - 203s 409ms/step - loss: 1.2942 - acc: 0.3952 - val_loss: 1.3349 - val_acc: 0.4480\n",
      "\n",
      "Epoch 00002: val_loss improved from 1.34660 to 1.33490, saving model to Best-weights-my_model-002-1.2942-0.3952.hdf5\n",
      "Epoch 3/10\n",
      "496/496 [==============================] - 175s 354ms/step - loss: 1.1953 - acc: 0.4516 - val_loss: 1.2034 - val_acc: 0.4880\n",
      "\n",
      "Epoch 00003: val_loss improved from 1.33490 to 1.20345, saving model to Best-weights-my_model-003-1.1953-0.4516.hdf5\n",
      "Epoch 4/10\n",
      "496/496 [==============================] - 203s 410ms/step - loss: 1.1702 - acc: 0.4798 - val_loss: 1.2120 - val_acc: 0.5040\n",
      "\n",
      "Epoch 00004: val_loss did not improve from 1.20345\n",
      "Epoch 5/10\n",
      "496/496 [==============================] - 165s 332ms/step - loss: 1.0644 - acc: 0.5222 - val_loss: 1.1394 - val_acc: 0.4800\n",
      "\n",
      "Epoch 00005: val_loss improved from 1.20345 to 1.13943, saving model to Best-weights-my_model-005-1.0644-0.5222.hdf5\n",
      "Epoch 6/10\n",
      "496/496 [==============================] - 209s 421ms/step - loss: 1.0354 - acc: 0.5484 - val_loss: 1.0756 - val_acc: 0.5520\n",
      "\n",
      "Epoch 00006: val_loss improved from 1.13943 to 1.07564, saving model to Best-weights-my_model-006-1.0354-0.5484.hdf5\n",
      "Epoch 7/10\n",
      "496/496 [==============================] - 172s 347ms/step - loss: 0.8804 - acc: 0.6431 - val_loss: 0.9190 - val_acc: 0.6480\n",
      "\n",
      "Epoch 00007: val_loss improved from 1.07564 to 0.91905, saving model to Best-weights-my_model-007-0.8804-0.6431.hdf5\n",
      "Epoch 8/10\n",
      "496/496 [==============================] - 144s 290ms/step - loss: 0.8004 - acc: 0.6734 - val_loss: 0.9394 - val_acc: 0.6640\n",
      "\n",
      "Epoch 00008: val_loss did not improve from 0.91905\n",
      "Epoch 9/10\n",
      "496/496 [==============================] - 134s 271ms/step - loss: 0.7809 - acc: 0.7218 - val_loss: 1.1235 - val_acc: 0.6000\n",
      "\n",
      "Epoch 00009: val_loss did not improve from 0.91905\n",
      "Epoch 10/10\n",
      "496/496 [==============================] - 149s 300ms/step - loss: 0.6329 - acc: 0.7419 - val_loss: 0.8706 - val_acc: 0.7040\n",
      "\n",
      "Epoch 00010: val_loss improved from 0.91905 to 0.87064, saving model to Best-weights-my_model-010-0.6329-0.7419.hdf5\n"
     ]
    }
   ],
   "source": [
    "#%%\n",
    "# Training\n",
    "#hist = model.fit(X_train, y_train, batch_size=16, nb_epoch=num_epoch, verbose=1, validation_data=(X_test, y_test))\n",
    "\n",
    "#hist = model.fit(X_train, y_train, batch_size=32, nb_epoch=20,verbose=1, validation_split=0.2)\n",
    "\n",
    "# Training with callbacks\n",
    "from keras import callbacks\n",
    "\n",
    "filename='model_train_new.csv'\n",
    "csv_log=callbacks.CSVLogger(filename, separator=',', append=False)\n",
    "\n",
    "#early_stopping=callbacks.EarlyStopping(monitor='val_loss', min_delta=0, patience=0, verbose=0, mode='min')\n",
    "\n",
    "filepath=\"Best-weights-my_model-{epoch:03d}-{loss:.4f}-{acc:.4f}.hdf5\"\n",
    "\n",
    "checkpoint = callbacks.ModelCheckpoint(filepath, monitor='val_loss', verbose=1, save_best_only=True, mode='min')\n",
    "\n",
    "#callbacks_list = [csv_log,early_stopping,checkpoint]\n",
    "callbacks_list = [csv_log,checkpoint]\n",
    "\n",
    "hist = model.fit(X_train, y_train, batch_size=16, epochs=num_epoch, verbose=1, validation_data=(X_test, y_test),callbacks=callbacks_list)"
   ]
  },
  {
   "cell_type": "code",
   "execution_count": 33,
   "metadata": {},
   "outputs": [],
   "source": [
    "# visualizing losses and accuracy\n",
    "train_loss=hist.history['loss']\n",
    "val_loss=hist.history['val_loss']\n",
    "train_acc=hist.history['acc']\n",
    "val_acc=hist.history['val_acc']"
   ]
  },
  {
   "cell_type": "code",
   "execution_count": 34,
   "metadata": {},
   "outputs": [
    {
     "data": {
      "image/png": "[encoded data removed]",
      "text/plain": [
       "<matplotlib.figure.Figure at 0x7f0790113ef0>"
      ]
     },
     "metadata": {},
     "output_type": "display_data"
    },
    {
     "data": {
      "image/png": "[encoded data removed]",
      "text/plain": [
       "<matplotlib.figure.Figure at 0x7f07a00b17b8>"
      ]
     },
     "metadata": {},
     "output_type": "display_data"
    }
   ],
   "source": [
    "xc=range(num_epoch)\n",
    "\n",
    "plt.figure(1,figsize=(10,8))\n",
    "plt.plot(xc,train_loss)\n",
    "plt.plot(xc,val_loss)\n",
    "plt.xlabel('num of Epochs')\n",
    "plt.ylabel('loss')\n",
    "plt.title('train_loss vs val_loss')\n",
    "plt.grid(True)\n",
    "plt.legend(['train','val'])\n",
    "#print plt.style.available # use bmh, classic,ggplot for big pictures\n",
    "plt.style.use(['classic'])\n",
    "#plt.savefig(\"train_loss_vs_val_los.png\")\n",
    "#plt.savefig(\"train_loss_vs_val_los.pdf\")\n",
    "#plt.cla()\n",
    "plt.figure(2,figsize=(10,8))\n",
    "plt.plot(xc,train_acc)\n",
    "plt.plot(xc,val_acc)\n",
    "plt.xlabel('num of Epochs')\n",
    "plt.ylabel('accuracy')\n",
    "plt.title('train_acc vs val_acc')\n",
    "plt.grid(True)\n",
    "plt.legend(['train','val'],loc=4)\n",
    "#print plt.style.available # use bmh, classic,ggplot for big pictures\n",
    "plt.style.use(['classic'])\n",
    "#plt.savefig(\"train_acc_vs_val_acc.png\")\n",
    "#plt.savefig(\"train_acc_vs_val_acc.pdf\")\n",
    "#%%"
   ]
  },
  {
   "cell_type": "code",
   "execution_count": 35,
   "metadata": {},
   "outputs": [
    {
     "name": "stdout",
     "output_type": "stream",
     "text": [
      "Test Loss: 0.8706397132873536\n",
      "Test accuracy: 0.7039999985694885\n",
      "(1, 1, 128, 128)\n",
      "[[0.09077336 0.16779444 0.5581031  0.18332912]]\n",
      "[2]\n",
      "[[0. 0. 1. 0.]]\n",
      "(128, 128)\n"
     ]
    }
   ],
   "source": [
    "# Evaluating the model\n",
    "\n",
    "score = model.evaluate(X_test, y_test, verbose=0)#show_accuracy=True, verbose=0)\n",
    "print('Test Loss:', score[0])\n",
    "print('Test accuracy:', score[1])\n",
    "\n",
    "test_image = X_test[0:1]\n",
    "print (test_image.shape)\n",
    "\n",
    "print(model.predict(test_image))\n",
    "print(model.predict_classes(test_image))\n",
    "print(y_test[0:1])\n",
    "\n",
    "# Testing a new image\n",
    "test_image = imread('data/cumulus/test/cumulus_5_005.jpg')\n",
    "test_image=cv2.cvtColor(test_image, cv2.COLOR_BGR2GRAY)\n",
    "test_image=cv2.resize(test_image,(128,128))\n",
    "test_image = np.array(test_image)\n",
    "test_image = test_image.astype('float32')\n",
    "test_image /= 255\n",
    "print (test_image.shape)"
   ]
  },
  {
   "cell_type": "code",
   "execution_count": 36,
   "metadata": {},
   "outputs": [
    {
     "name": "stdout",
     "output_type": "stream",
     "text": [
      "(1, 1, 128, 128)\n"
     ]
    }
   ],
   "source": [
    "if num_channel==1:\n",
    "\tif K.image_dim_ordering()=='th':\n",
    "\t\ttest_image= np.expand_dims(test_image, axis=0)\n",
    "\t\ttest_image= np.expand_dims(test_image, axis=0)\n",
    "\t\tprint (test_image.shape)\n",
    "\telse:\n",
    "\t\ttest_image= np.expand_dims(test_image, axis=3) \n",
    "\t\ttest_image= np.expand_dims(test_image, axis=0)\n",
    "\t\tprint (test_image.shape)\n",
    "\t\t\n",
    "else:\n",
    "\tif K.image_dim_ordering()=='th':\n",
    "\t\ttest_image=np.rollaxis(test_image,2,0)\n",
    "\t\ttest_image= np.expand_dims(test_image, axis=0)\n",
    "\t\tprint (test_image.shape)\n",
    "\telse:\n",
    "\t\ttest_image= np.expand_dims(test_image, axis=0)\n",
    "\t\tprint (test_image.shape)"
   ]
  },
  {
   "cell_type": "code",
   "execution_count": 37,
   "metadata": {},
   "outputs": [
    {
     "name": "stdout",
     "output_type": "stream",
     "text": [
      "test image predict probs: [[1.541792e-03 1.719634e-02 9.803812e-01 8.807238e-04]]\n",
      "test image predict class: [2]\n"
     ]
    }
   ],
   "source": [
    "# Predicting the test image\n",
    "print(\"test image predict probs:\",(model.predict(test_image)))\n",
    "print(\"test image predict class:\", model.predict_classes(test_image))\n",
    "\n",
    "#%%"
   ]
  },
  {
   "cell_type": "code",
   "execution_count": 38,
   "metadata": {
    "scrolled": false
   },
   "outputs": [],
   "source": [
    "# Visualizing the intermediate layer\n",
    "\n",
    "#\n",
    "#def get_featuremaps(model, layer_idx, X_batch):\n",
    "#\tget_activations = K.function([model.layers[0].input, K.learning_phase()],[model.layers[layer_idx].output,])\n",
    "#\tactivations = get_activations([X_batch,0])\n",
    "#\treturn activations\n",
    "\n",
    "#layer_num=3\n",
    "#filter_num=0\n",
    "\n",
    "#activations = get_featuremaps(model, int(layer_num),test_image)\n",
    "\n",
    "#print (np.shape(activations))\n",
    "#feature_maps = activations[0][0]      \n",
    "#print (np.shape(feature_maps))\n",
    "\n",
    "#if K.image_dim_ordering()=='th':\n",
    "#\tfeature_maps=np.rollaxis((np.rollaxis(feature_maps,2,0)),2,0)\n",
    "#print (feature_maps.shape)\n",
    "\n",
    "#fig=plt.figure(figsize=(16,16))\n",
    "#plt.imshow(np.array(feature_maps[:,:,int(filter_num)], dtype=np.int32),cmap='gray')\n",
    "#plt.savefig(\"featuremaps-layer-{}\".format(int(layer_num)) + \"-filternum-{}\".format(int(filter_num))+'.jpg')\n",
    "\n",
    "#num_of_featuremaps=feature_maps.shape[2]\n",
    "#fig=plt.figure(figsize=(16,16))\t\n",
    "#plt.title(\"featuremaps-layer-{}\".format(layer_num))\n",
    "#subplot_num=int(np.ceil(np.sqrt(num_of_featuremaps)))\n",
    "#for i in range(int(num_of_featuremaps)):\n",
    "#\tax = fig.add_subplot(subplot_num, subplot_num, i+1)\n",
    "#\t#ax.imshow(output_image[0,:,:,i],interpolation='nearest' ) #to see the first filter\n",
    "#\tax.imshow(np.array(feature_maps[:,:,i], dtype=np.int32),cmap='gray')\n",
    "#\tplt.xticks([])\n",
    "#\tplt.yticks([])\n",
    "#\tplt.tight_layout()\n",
    "#plt.show()\n",
    "#fig.savefig(\"featuremaps-layer-{}\".format(int(layer_num)) + '.jpg')"
   ]
  },
  {
   "cell_type": "code",
   "execution_count": 39,
   "metadata": {
    "scrolled": false
   },
   "outputs": [
    {
     "name": "stdout",
     "output_type": "stream",
     "text": [
      "predict probs for the whole test set:\n",
      " [[9.07733440e-02 1.67794436e-01 5.58103144e-01 1.83329090e-01]\n",
      " [2.73267061e-01 2.18754336e-01 2.95339257e-01 2.12639436e-01]\n",
      " [1.34050730e-04 6.85309649e-01 2.03665301e-01 1.10891044e-01]\n",
      " [2.18479727e-05 3.69499810e-03 9.94868159e-01 1.41501438e-03]\n",
      " [6.78260345e-04 4.33759093e-02 1.69356674e-01 7.86589146e-01]\n",
      " [6.88544065e-02 3.92713547e-01 3.80488098e-01 1.57943934e-01]\n",
      " [1.55425863e-02 9.27224636e-01 4.29382734e-02 1.42944138e-02]\n",
      " [4.56783734e-03 7.99575448e-01 9.84532908e-02 9.74033922e-02]\n",
      " [2.42236885e-03 6.41599223e-02 9.16546464e-01 1.68712586e-02]\n",
      " [5.27401106e-04 8.67760181e-01 3.21274363e-02 9.95850414e-02]\n",
      " [2.74592340e-02 2.63641328e-01 4.24573958e-01 2.84325451e-01]\n",
      " [6.16901743e-05 8.84937763e-01 5.40083796e-02 6.09921142e-02]\n",
      " [3.34054255e-03 9.95968133e-02 4.42001700e-01 4.55060929e-01]\n",
      " [1.18427468e-03 7.37484396e-01 8.12517554e-02 1.80079535e-01]\n",
      " [3.87465393e-10 6.03802095e-04 1.79875951e-05 9.99378204e-01]\n",
      " [1.00606570e-07 2.85064485e-02 1.35695636e-02 9.57923830e-01]\n",
      " [2.95365276e-03 6.97498381e-01 2.97910243e-01 1.63769932e-03]\n",
      " [5.70607977e-03 8.03177059e-01 9.13789868e-02 9.97378677e-02]\n",
      " [4.54095751e-01 2.63445228e-01 2.16104984e-01 6.63539991e-02]\n",
      " [5.65857487e-03 3.22225094e-02 9.57054853e-01 5.06404601e-03]\n",
      " [2.64625162e-01 3.26592058e-01 2.46529490e-01 1.62253276e-01]\n",
      " [1.20755145e-02 1.54113293e-01 1.31075948e-01 7.02735245e-01]\n",
      " [2.44398578e-03 6.30805671e-01 3.47024441e-01 1.97258033e-02]\n",
      " [3.74762952e-01 2.09125176e-01 3.43529999e-01 7.25818425e-02]\n",
      " [1.04961455e-01 1.19845726e-01 7.36662745e-01 3.85299772e-02]\n",
      " [4.55295849e-05 1.15275383e-01 7.80967921e-02 8.06582272e-01]\n",
      " [3.08992952e-01 1.51129574e-01 4.92904395e-01 4.69730422e-02]\n",
      " [2.22560093e-01 1.68791860e-01 4.50227052e-01 1.58421010e-01]\n",
      " [9.01571847e-03 2.49166191e-01 4.72872615e-01 2.68945485e-01]\n",
      " [7.78267422e-05 1.84569799e-03 9.98007596e-01 6.89072185e-05]\n",
      " [5.64241149e-02 1.79869130e-01 4.38256681e-01 3.25450093e-01]\n",
      " [8.90422147e-03 7.32782930e-02 8.96534145e-01 2.12833248e-02]\n",
      " [5.40443957e-01 2.00052246e-01 2.07569212e-01 5.19345962e-02]\n",
      " [2.64049351e-01 1.81302890e-01 4.95073825e-01 5.95739558e-02]\n",
      " [6.80835545e-03 8.76035452e-01 1.10248230e-01 6.90806704e-03]\n",
      " [9.57553312e-02 1.52618617e-01 6.21203423e-01 1.30422682e-01]\n",
      " [8.87923234e-04 5.67317344e-02 8.06310698e-02 8.61749291e-01]\n",
      " [1.54313433e-03 1.69573352e-01 7.76537478e-01 5.23460321e-02]\n",
      " [1.70249809e-02 7.90833533e-01 1.28815204e-01 6.33263215e-02]\n",
      " [4.67484024e-05 9.75075305e-01 1.56054301e-02 9.27257817e-03]\n",
      " [2.59480745e-01 1.79866046e-01 5.02834082e-01 5.78191616e-02]\n",
      " [5.66062843e-03 5.98227799e-01 3.88627052e-01 7.48452172e-03]\n",
      " [3.36633831e-01 2.17888027e-01 1.27610996e-01 3.17867190e-01]\n",
      " [5.46246019e-06 9.92774129e-01 4.79325512e-03 2.42714561e-03]\n",
      " [2.78654043e-03 7.66860545e-01 8.80810097e-02 1.42271847e-01]\n",
      " [4.02911812e-01 2.32206136e-01 2.21120238e-01 1.43761829e-01]\n",
      " [2.62231380e-03 6.42026588e-02 7.33406916e-02 8.59834313e-01]\n",
      " [1.72197655e-01 1.96735159e-01 3.93490791e-01 2.37576395e-01]\n",
      " [7.95003871e-05 1.92308682e-03 9.97928977e-01 6.83590697e-05]\n",
      " [5.98155037e-02 1.19348787e-01 7.39336610e-01 8.14990625e-02]\n",
      " [3.27289104e-01 2.04626635e-01 4.00035322e-01 6.80489317e-02]\n",
      " [2.32407209e-02 1.87481016e-01 6.27632678e-01 1.61645606e-01]\n",
      " [6.30164295e-02 2.13325083e-01 4.93034303e-01 2.30624169e-01]\n",
      " [1.50005417e-02 1.82671964e-01 1.55272678e-01 6.47054851e-01]\n",
      " [1.65975764e-02 3.14996839e-01 5.59679270e-01 1.08726397e-01]\n",
      " [3.45759839e-01 2.06338346e-01 2.96409130e-01 1.51492700e-01]\n",
      " [1.27497345e-01 1.79602489e-01 4.89678115e-01 2.03222081e-01]\n",
      " [1.67013854e-01 1.37310863e-01 6.55908942e-01 3.97663862e-02]\n",
      " [1.48714902e-02 1.82230592e-01 1.53871268e-01 6.49026692e-01]\n",
      " [1.64120086e-02 7.55928233e-02 8.85296941e-01 2.26982776e-02]\n",
      " [8.93857852e-02 1.00432195e-01 1.37271494e-01 6.72910571e-01]\n",
      " [2.08017081e-01 2.86505103e-01 3.17316324e-01 1.88161507e-01]\n",
      " [1.26688093e-07 7.66073633e-03 7.71532534e-03 9.84623849e-01]\n",
      " [3.65805738e-02 6.91506267e-01 2.07799137e-01 6.41139820e-02]\n",
      " [2.24604773e-05 3.74646485e-03 9.86863494e-01 9.36762337e-03]\n",
      " [8.13500023e-08 2.79712901e-02 1.34696541e-02 9.58558917e-01]\n",
      " [7.02461377e-02 3.90457928e-01 3.81403953e-01 1.57892019e-01]\n",
      " [1.23745194e-02 4.98342186e-01 3.26494306e-01 1.62788928e-01]\n",
      " [3.11748590e-02 7.10027575e-01 2.41564125e-01 1.72334425e-02]\n",
      " [7.61373155e-03 3.47729087e-01 1.21954367e-01 5.22702813e-01]\n",
      " [1.08269078e-03 7.41900802e-01 7.63939098e-02 1.80622593e-01]\n",
      " [7.08995238e-02 1.41167104e-01 6.47483230e-01 1.40450120e-01]\n",
      " [3.40413777e-08 8.97003119e-05 9.99711215e-01 1.99026093e-04]\n",
      " [8.36020429e-03 9.15007293e-02 6.98850036e-01 2.01289043e-01]\n",
      " [2.19098609e-02 3.37119579e-01 8.57773423e-02 5.55193245e-01]\n",
      " [4.65505958e-01 2.51737744e-01 1.86685950e-01 9.60703269e-02]\n",
      " [3.41002142e-08 8.81931337e-05 9.99713838e-01 1.97893867e-04]\n",
      " [1.39407101e-04 3.98994535e-02 1.19200060e-02 9.48041081e-01]\n",
      " [3.34092998e-04 1.03050791e-01 5.19294627e-02 8.44685674e-01]\n",
      " [3.40896308e-01 2.52545089e-01 2.23793253e-01 1.82765275e-01]\n",
      " [5.39019879e-07 6.98727136e-03 7.94822117e-04 9.92217302e-01]\n",
      " [2.92222940e-05 9.82877076e-01 1.46971727e-02 2.39659008e-03]\n",
      " [2.32185260e-03 3.34292918e-01 7.84356073e-02 5.84949672e-01]\n",
      " [2.64009207e-01 1.81772634e-01 4.94839996e-01 5.93781061e-02]\n",
      " [4.63175308e-03 2.94929370e-02 9.47701454e-01 1.81738418e-02]\n",
      " [2.47994019e-03 1.91641927e-01 7.26446748e-01 7.94313848e-02]\n",
      " [5.60885994e-03 8.04015815e-01 9.10717472e-02 9.93035734e-02]\n",
      " [3.38285118e-01 2.96655029e-01 1.89651176e-01 1.75408602e-01]\n",
      " [3.11035495e-02 1.24547534e-01 8.29473257e-01 1.48756364e-02]\n",
      " [1.68438116e-03 7.14486688e-02 1.50864691e-01 7.76002288e-01]\n",
      " [1.38386851e-04 3.97535861e-02 1.18790353e-02 9.48228955e-01]\n",
      " [3.97142197e-04 8.41498911e-01 1.22386120e-01 3.57178375e-02]\n",
      " [8.23048782e-03 2.15055257e-01 7.69114852e-01 7.59948837e-03]\n",
      " [1.53621105e-12 7.55073825e-06 9.92873197e-08 9.99992371e-01]\n",
      " [4.31917518e-01 1.74358368e-01 2.49624357e-01 1.44099742e-01]\n",
      " [1.58682596e-02 3.75924230e-01 6.02127612e-01 6.07985770e-03]\n",
      " [2.23167483e-02 8.00127685e-01 1.29259214e-01 4.82963398e-02]\n",
      " [5.27073517e-02 4.75596189e-02 8.70072842e-01 2.96601877e-02]\n",
      " [1.64885505e-03 9.52377200e-01 3.56348418e-02 1.03392033e-02]\n",
      " [7.13885878e-04 1.79447368e-01 7.76327908e-01 4.35108617e-02]\n",
      " [2.90239332e-05 7.41747543e-02 8.23392943e-02 8.43456984e-01]\n",
      " [2.40473431e-02 7.33350441e-02 8.50678742e-01 5.19388430e-02]\n",
      " [3.40529382e-01 1.75499842e-01 3.66040885e-01 1.17929831e-01]\n",
      " [1.68116555e-01 1.96988583e-01 3.89236242e-01 2.45658547e-01]\n",
      " [1.51986431e-04 3.91180925e-02 8.88150513e-01 7.25794509e-02]\n",
      " [2.70356564e-03 7.85845518e-01 8.27053562e-02 1.28745511e-01]\n",
      " [2.69680284e-02 7.58192003e-01 1.94131777e-01 2.07082201e-02]\n",
      " [4.95409876e-01 1.91380277e-01 2.61589348e-01 5.16204797e-02]\n",
      " [8.87654896e-04 5.63901700e-02 8.09351355e-02 8.61787081e-01]\n",
      " [4.43812925e-03 1.70979857e-01 7.80536294e-01 4.40456904e-02]\n",
      " [3.15394819e-01 2.40611002e-01 3.05445492e-01 1.38548657e-01]\n",
      " [6.15316501e-04 6.08724713e-01 2.82540619e-01 1.08119287e-01]\n",
      " [3.38267922e-01 2.52118289e-01 2.28017211e-01 1.81596607e-01]\n",
      " [4.29521017e-02 6.35790005e-02 8.73049259e-01 2.04195809e-02]\n",
      " [6.71554282e-02 1.37348607e-01 6.60613894e-01 1.34882003e-01]\n",
      " [3.67077626e-02 2.79458284e-01 3.07001203e-01 3.76832694e-01]\n",
      " [2.77194431e-11 3.29509530e-05 4.85570490e-05 9.99918461e-01]\n",
      " [1.36202900e-03 9.54046369e-01 4.31204066e-02 1.47122762e-03]\n",
      " [6.65181642e-03 7.18139648e-01 7.65363052e-02 1.98672161e-01]\n",
      " [3.86577454e-08 1.35714799e-04 9.98182952e-01 1.68120151e-03]\n",
      " [1.58241205e-02 7.57106692e-02 8.86378407e-01 2.20868401e-02]\n",
      " [3.19004834e-01 1.77393869e-01 4.53075260e-01 5.05260043e-02]\n",
      " [3.17111462e-02 1.25726461e-01 8.27723622e-01 1.48387020e-02]\n",
      " [1.38224229e-01 1.78235233e-01 4.13893878e-01 2.69646674e-01]\n",
      " [1.36923580e-03 1.44340834e-02 9.83389676e-01 8.06960918e-04]]\n",
      "[2 2 1 2 3 1 1 1 2 1 2 1 3 1 3 3 1 1 0 2 1 3 1 0 2 3 2 2 2 2 2 2 0 2 1 2 3\n",
      " 2 1 1 2 1 0 1 1 0 3 2 2 2 2 2 2 3 2 0 2 2 3 2 3 2 3 1 2 3 1 1 1 3 1 2 2 2\n",
      " 3 0 2 3 3 0 3 1 3 2 2 2 1 0 2 3 3 1 2 3 0 2 1 2 1 2 3 2 2 2 2 1 1 0 3 2 0\n",
      " 1 0 2 2 3 3 1 1 2 2 2 2 2 2]\n",
      "                  precision    recall  f1-score   support\n",
      "\n",
      "class 0(stratus)       0.77      0.62      0.69        16\n",
      " class 1(cirrus)       0.81      0.72      0.76        36\n",
      "class 2(cumulus)       0.61      0.79      0.69        42\n",
      " class 3(nimbus)       0.73      0.61      0.67        31\n",
      "\n",
      "     avg / total       0.72      0.70      0.70       125\n",
      "\n",
      "[[10  0  6  0]\n",
      " [ 1 26  6  3]\n",
      " [ 1  4 33  4]\n",
      " [ 1  2  9 19]]\n"
     ]
    }
   ],
   "source": [
    "#%%\n",
    "# Printing the confusion matrix\n",
    "from sklearn.metrics import classification_report,confusion_matrix\n",
    "import itertools\n",
    "\n",
    "Y_pred = model.predict(X_test)\n",
    "print(\"predict probs for the whole test set:\\n\", Y_pred)\n",
    "y_pred = np.argmax(Y_pred, axis=1)\n",
    "print(y_pred)\n",
    "#y_pred = model.predict_classes(X_test)\n",
    "#print(y_pred)\n",
    "target_names =  ['class {}({})'.format(clsnum, clsname) for clsnum, clsname in enumerate(names)]\n",
    "\n",
    "#e.g target_names = ['class 0(stratus)', 'class 1(cirrus)', class 2(cumulus)','class 3(nimbus)']\n",
    "\t\t\t\t\t\n",
    "print(classification_report(np.argmax(y_test,axis=1), y_pred,target_names=target_names))\n",
    "\n",
    "print(confusion_matrix(np.argmax(y_test,axis=1), y_pred))"
   ]
  },
  {
   "cell_type": "code",
   "execution_count": 40,
   "metadata": {},
   "outputs": [],
   "source": [
    "# Plotting the confusion matrix\n",
    "def plot_confusion_matrix(cm, classes,\n",
    "                          normalize=False,\n",
    "                          title='Confusion matrix',\n",
    "                          cmap=plt.cm.Blues):\n",
    "    \"\"\"\n",
    "    This function prints and plots the confusion matrix.\n",
    "    Normalization can be applied by setting `normalize=True`.\n",
    "    \"\"\"\n",
    "    plt.imshow(cm, interpolation='nearest', cmap=cmap)\n",
    "    plt.title(title)\n",
    "    plt.colorbar()\n",
    "    tick_marks = np.arange(len(classes))\n",
    "    plt.xticks(tick_marks, classes, rotation=45)\n",
    "    plt.yticks(tick_marks, classes)\n",
    "\n",
    "    if normalize:\n",
    "        cm = cm.astype('float') / cm.sum(axis=1)[:, np.newaxis]\n",
    "        print(\"Normalized confusion matrix\")\n",
    "    else:\n",
    "        print('Confusion matrix, without normalization')\n",
    "\n",
    "    print(cm)\n",
    "\n",
    "    thresh = cm.max() / 2.\n",
    "    for i, j in itertools.product(range(cm.shape[0]), range(cm.shape[1])):\n",
    "        plt.text(j, i, cm[i, j],\n",
    "                 horizontalalignment=\"center\",\n",
    "                 color=\"white\" if cm[i, j] > thresh else \"black\")\n",
    "\n",
    "    plt.tight_layout()\n",
    "    plt.ylabel('True label')\n",
    "    plt.xlabel('Predicted label')\n",
    "\n",
    "# Compute confusion matrix\n",
    "cnf_matrix = (confusion_matrix(np.argmax(y_test,axis=1), y_pred))\n"
   ]
  },
  {
   "cell_type": "code",
   "execution_count": 41,
   "metadata": {},
   "outputs": [
    {
     "name": "stdout",
     "output_type": "stream",
     "text": [
      "Confusion matrix, without normalization\n",
      "[[10  0  6  0]\n",
      " [ 1 26  6  3]\n",
      " [ 1  4 33  4]\n",
      " [ 1  2  9 19]]\n"
     ]
    },
    {
     "data": {
      "image/png": "[encoded data removed]",
      "text/plain": [
       "<matplotlib.figure.Figure at 0x7f078a7bc208>"
      ]
     },
     "metadata": {},
     "output_type": "display_data"
    }
   ],
   "source": [
    "np.set_printoptions(precision=2)\n",
    "\n",
    "plt.figure()\n",
    "\n",
    "# Plot non-normalized confusion matrix\n",
    "plot_confusion_matrix(cnf_matrix, classes=target_names,\n",
    "                      title='Confusion matrix')\n",
    "#plt.figure()\n",
    "# Plot normalized confusion matrix\n",
    "#plot_confusion_matrix(cnf_matrix, classes=target_names, normalize=True,\n",
    "#                      title='Normalized confusion matrix')\n",
    "#plt.figure()\n",
    "#plt.show()\n",
    "#plt.savefig(\"confusion_matrix.png\")\n",
    "#plt.savefig(\"confusion_matrix.pdf\")"
   ]
  },
  {
   "cell_type": "code",
   "execution_count": 42,
   "metadata": {},
   "outputs": [],
   "source": [
    "#%%\n",
    "# Saving and loading model and weights\n",
    "#from keras.models import model_from_json\n",
    "#from keras.models import load_model\n",
    "\n",
    "# serialize model to JSON\n",
    "#model_json = model.to_json()\n",
    "#with open(\"model.json\", \"w\") as json_file:\n",
    "#    json_file.write(model_json)\n",
    "# serialize weights to HDF5\n",
    "#model.save_weights(\"model.h5\")\n",
    "#print(\"Saved model to disk\")\n",
    "\n",
    "# load json and create model\n",
    "#json_file = open('model.json', 'r')\n",
    "#loaded_model_json = json_file.read()\n",
    "#json_file.close()\n",
    "#loaded_model = model_from_json(loaded_model_json)\n",
    "# load weights into new model\n",
    "#loaded_model.load_weights(\"model.h5\")\n",
    "#print(\"Loaded model from disk\")\n",
    "\n",
    "#model.save('model.hdf5')\n",
    "#loaded_model=load_model('model.hdf5')"
   ]
  },
  {
   "cell_type": "code",
   "execution_count": null,
   "metadata": {},
   "outputs": [],
   "source": [
    "print(y_pred)"
   ]
  },
  {
   "cell_type": "code",
   "execution_count": null,
   "metadata": {},
   "outputs": [],
   "source": [
    "plt.imshow(X_test)"
   ]
  },
  {
   "cell_type": "code",
   "execution_count": null,
   "metadata": {},
   "outputs": [],
   "source": [
    "test_image_ = X_test[0:1]"
   ]
  },
  {
   "cell_type": "code",
   "execution_count": null,
   "metadata": {},
   "outputs": [],
   "source": [
    "test_image_"
   ]
  },
  {
   "cell_type": "code",
   "execution_count": null,
   "metadata": {},
   "outputs": [],
   "source": [
    "y_pred_ = model.predict_classes(X_test)\n",
    "print(y_pred_)"
   ]
  },
  {
   "cell_type": "code",
   "execution_count": null,
   "metadata": {},
   "outputs": [],
   "source": []
  }
 ],
 "metadata": {
  "kernelspec": {
   "display_name": "Python 3",
   "language": "python",
   "name": "python3"
  },
  "language_info": {
   "codemirror_mode": {
    "name": "ipython",
    "version": 3
   },
   "file_extension": ".py",
   "mimetype": "text/x-python",
   "name": "python",
   "nbconvert_exporter": "python",
   "pygments_lexer": "ipython3",
   "version": "3.5.2"
  }
 },
 "nbformat": 4,
 "nbformat_minor": 2
}
